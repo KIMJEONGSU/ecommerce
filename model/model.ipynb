{
 "cells": [
  {
   "cell_type": "code",
   "execution_count": 1,
   "metadata": {},
   "outputs": [],
   "source": [
    "import pandas as pd\n",
    "import matplotlib.pyplot as plt\n",
    "import seaborn as sns\n",
    "from datetime import timedelta, datetime\n",
    "import numpy as np\n",
    "import re\n",
    "\n",
    "pd.set_option('display.max_columns', None)"
   ]
  },
  {
   "cell_type": "code",
   "execution_count": 2,
   "metadata": {},
   "outputs": [],
   "source": [
    "# 그래프 한글화\n",
    "import matplotlib\n",
    "matplotlib.rcParams['font.family'] ='Malgun Gothic'\n",
    "matplotlib.rcParams['axes.unicode_minus'] =False"
   ]
  },
  {
   "cell_type": "code",
   "execution_count": 3,
   "metadata": {},
   "outputs": [],
   "source": [
    "df_click = pd.read_csv('../Data_file/click_stream_new.csv')\n",
    "df_customer = pd.read_csv('../Data_file/customer.csv')"
   ]
  },
  {
   "cell_type": "code",
   "execution_count": 4,
   "metadata": {},
   "outputs": [],
   "source": [
    "df_product = pd.read_csv('../Data_file/product.csv', on_bad_lines='skip') \n",
    "df_transaction = pd.read_csv('../Data_file/transaction_final.csv')"
   ]
  },
  {
   "cell_type": "markdown",
   "metadata": {},
   "source": [
    "## 로그데이터"
   ]
  },
  {
   "cell_type": "code",
   "execution_count": 5,
   "metadata": {},
   "outputs": [],
   "source": [
    "df_click.head()\n",
    "df_click = df_click.sort_values(['session_id','event_time'])"
   ]
  },
  {
   "cell_type": "code",
   "execution_count": 6,
   "metadata": {},
   "outputs": [
    {
     "data": {
      "text/html": [
       "<div>\n",
       "<style scoped>\n",
       "    .dataframe tbody tr th:only-of-type {\n",
       "        vertical-align: middle;\n",
       "    }\n",
       "\n",
       "    .dataframe tbody tr th {\n",
       "        vertical-align: top;\n",
       "    }\n",
       "\n",
       "    .dataframe thead th {\n",
       "        text-align: right;\n",
       "    }\n",
       "</style>\n",
       "<table border=\"1\" class=\"dataframe\">\n",
       "  <thead>\n",
       "    <tr style=\"text-align: right;\">\n",
       "      <th></th>\n",
       "      <th>session_id</th>\n",
       "      <th>event_name</th>\n",
       "      <th>event_time</th>\n",
       "      <th>event_id</th>\n",
       "      <th>traffic_source</th>\n",
       "      <th>product_id</th>\n",
       "      <th>quantity</th>\n",
       "      <th>item_price</th>\n",
       "      <th>payment_status</th>\n",
       "      <th>search_keywords</th>\n",
       "      <th>promo_code</th>\n",
       "      <th>promo_amount</th>\n",
       "    </tr>\n",
       "  </thead>\n",
       "  <tbody>\n",
       "    <tr>\n",
       "      <th>469318</th>\n",
       "      <td>00001f29-3ede-4445-95f0-0178934e32ba</td>\n",
       "      <td>HOMEPAGE</td>\n",
       "      <td>2019-05-17T11:51:52.276396Z</td>\n",
       "      <td>51793173-664c-4557-8a06-fc37587bea3d</td>\n",
       "      <td>MOBILE</td>\n",
       "      <td>NaN</td>\n",
       "      <td>NaN</td>\n",
       "      <td>NaN</td>\n",
       "      <td>NaN</td>\n",
       "      <td>NaN</td>\n",
       "      <td>NaN</td>\n",
       "      <td>NaN</td>\n",
       "    </tr>\n",
       "    <tr>\n",
       "      <th>469319</th>\n",
       "      <td>00001f29-3ede-4445-95f0-0178934e32ba</td>\n",
       "      <td>ADD_TO_CART</td>\n",
       "      <td>2019-05-17T19:54:53.276396Z</td>\n",
       "      <td>517b331c-4296-4772-a1a2-9bf7500a5570</td>\n",
       "      <td>MOBILE</td>\n",
       "      <td>33855.0</td>\n",
       "      <td>6.0</td>\n",
       "      <td>237967.0</td>\n",
       "      <td>NaN</td>\n",
       "      <td>NaN</td>\n",
       "      <td>NaN</td>\n",
       "      <td>NaN</td>\n",
       "    </tr>\n",
       "    <tr>\n",
       "      <th>469321</th>\n",
       "      <td>00001f29-3ede-4445-95f0-0178934e32ba</td>\n",
       "      <td>HOMEPAGE</td>\n",
       "      <td>2019-05-17T19:55:12.276396Z</td>\n",
       "      <td>2c0581d2-3185-4172-87ea-795ee26a4d0a</td>\n",
       "      <td>MOBILE</td>\n",
       "      <td>NaN</td>\n",
       "      <td>NaN</td>\n",
       "      <td>NaN</td>\n",
       "      <td>NaN</td>\n",
       "      <td>NaN</td>\n",
       "      <td>NaN</td>\n",
       "      <td>NaN</td>\n",
       "    </tr>\n",
       "    <tr>\n",
       "      <th>469322</th>\n",
       "      <td>00001f29-3ede-4445-95f0-0178934e32ba</td>\n",
       "      <td>CLICK</td>\n",
       "      <td>2019-05-18T03:58:25.276396Z</td>\n",
       "      <td>81982a1d-5562-44e8-8b1d-1c3366434c5e</td>\n",
       "      <td>MOBILE</td>\n",
       "      <td>NaN</td>\n",
       "      <td>NaN</td>\n",
       "      <td>NaN</td>\n",
       "      <td>NaN</td>\n",
       "      <td>NaN</td>\n",
       "      <td>NaN</td>\n",
       "      <td>NaN</td>\n",
       "    </tr>\n",
       "    <tr>\n",
       "      <th>469323</th>\n",
       "      <td>00001f29-3ede-4445-95f0-0178934e32ba</td>\n",
       "      <td>CLICK</td>\n",
       "      <td>2019-05-18T12:02:44.276396Z</td>\n",
       "      <td>6f7980bf-dce4-4b1e-9ffa-5c37499c4dc7</td>\n",
       "      <td>MOBILE</td>\n",
       "      <td>NaN</td>\n",
       "      <td>NaN</td>\n",
       "      <td>NaN</td>\n",
       "      <td>NaN</td>\n",
       "      <td>NaN</td>\n",
       "      <td>NaN</td>\n",
       "      <td>NaN</td>\n",
       "    </tr>\n",
       "  </tbody>\n",
       "</table>\n",
       "</div>"
      ],
      "text/plain": [
       "                                  session_id   event_name   \n",
       "469318  00001f29-3ede-4445-95f0-0178934e32ba     HOMEPAGE  \\\n",
       "469319  00001f29-3ede-4445-95f0-0178934e32ba  ADD_TO_CART   \n",
       "469321  00001f29-3ede-4445-95f0-0178934e32ba     HOMEPAGE   \n",
       "469322  00001f29-3ede-4445-95f0-0178934e32ba        CLICK   \n",
       "469323  00001f29-3ede-4445-95f0-0178934e32ba        CLICK   \n",
       "\n",
       "                         event_time                              event_id   \n",
       "469318  2019-05-17T11:51:52.276396Z  51793173-664c-4557-8a06-fc37587bea3d  \\\n",
       "469319  2019-05-17T19:54:53.276396Z  517b331c-4296-4772-a1a2-9bf7500a5570   \n",
       "469321  2019-05-17T19:55:12.276396Z  2c0581d2-3185-4172-87ea-795ee26a4d0a   \n",
       "469322  2019-05-18T03:58:25.276396Z  81982a1d-5562-44e8-8b1d-1c3366434c5e   \n",
       "469323  2019-05-18T12:02:44.276396Z  6f7980bf-dce4-4b1e-9ffa-5c37499c4dc7   \n",
       "\n",
       "       traffic_source  product_id  quantity  item_price payment_status   \n",
       "469318         MOBILE         NaN       NaN         NaN            NaN  \\\n",
       "469319         MOBILE     33855.0       6.0    237967.0            NaN   \n",
       "469321         MOBILE         NaN       NaN         NaN            NaN   \n",
       "469322         MOBILE         NaN       NaN         NaN            NaN   \n",
       "469323         MOBILE         NaN       NaN         NaN            NaN   \n",
       "\n",
       "       search_keywords promo_code  promo_amount  \n",
       "469318             NaN        NaN           NaN  \n",
       "469319             NaN        NaN           NaN  \n",
       "469321             NaN        NaN           NaN  \n",
       "469322             NaN        NaN           NaN  \n",
       "469323             NaN        NaN           NaN  "
      ]
     },
     "execution_count": 6,
     "metadata": {},
     "output_type": "execute_result"
    }
   ],
   "source": [
    "df = df_click.copy()\n",
    "df.head()"
   ]
  },
  {
   "cell_type": "code",
   "execution_count": 7,
   "metadata": {},
   "outputs": [
    {
     "data": {
      "text/html": [
       "<div>\n",
       "<style scoped>\n",
       "    .dataframe tbody tr th:only-of-type {\n",
       "        vertical-align: middle;\n",
       "    }\n",
       "\n",
       "    .dataframe tbody tr th {\n",
       "        vertical-align: top;\n",
       "    }\n",
       "\n",
       "    .dataframe thead th {\n",
       "        text-align: right;\n",
       "    }\n",
       "</style>\n",
       "<table border=\"1\" class=\"dataframe\">\n",
       "  <thead>\n",
       "    <tr style=\"text-align: right;\">\n",
       "      <th></th>\n",
       "      <th>session_id</th>\n",
       "      <th>event_name</th>\n",
       "      <th>event_time</th>\n",
       "      <th>traffic_source</th>\n",
       "    </tr>\n",
       "  </thead>\n",
       "  <tbody>\n",
       "    <tr>\n",
       "      <th>469318</th>\n",
       "      <td>00001f29-3ede-4445-95f0-0178934e32ba</td>\n",
       "      <td>HOMEPAGE</td>\n",
       "      <td>2019-05-17T11:51:52.276396Z</td>\n",
       "      <td>MOBILE</td>\n",
       "    </tr>\n",
       "    <tr>\n",
       "      <th>469319</th>\n",
       "      <td>00001f29-3ede-4445-95f0-0178934e32ba</td>\n",
       "      <td>ADD_TO_CART</td>\n",
       "      <td>2019-05-17T19:54:53.276396Z</td>\n",
       "      <td>MOBILE</td>\n",
       "    </tr>\n",
       "    <tr>\n",
       "      <th>469321</th>\n",
       "      <td>00001f29-3ede-4445-95f0-0178934e32ba</td>\n",
       "      <td>HOMEPAGE</td>\n",
       "      <td>2019-05-17T19:55:12.276396Z</td>\n",
       "      <td>MOBILE</td>\n",
       "    </tr>\n",
       "    <tr>\n",
       "      <th>469322</th>\n",
       "      <td>00001f29-3ede-4445-95f0-0178934e32ba</td>\n",
       "      <td>CLICK</td>\n",
       "      <td>2019-05-18T03:58:25.276396Z</td>\n",
       "      <td>MOBILE</td>\n",
       "    </tr>\n",
       "    <tr>\n",
       "      <th>469323</th>\n",
       "      <td>00001f29-3ede-4445-95f0-0178934e32ba</td>\n",
       "      <td>CLICK</td>\n",
       "      <td>2019-05-18T12:02:44.276396Z</td>\n",
       "      <td>MOBILE</td>\n",
       "    </tr>\n",
       "    <tr>\n",
       "      <th>...</th>\n",
       "      <td>...</td>\n",
       "      <td>...</td>\n",
       "      <td>...</td>\n",
       "      <td>...</td>\n",
       "    </tr>\n",
       "    <tr>\n",
       "      <th>5928943</th>\n",
       "      <td>fffffaf6-55ee-428b-a3bf-075cd7f1a093</td>\n",
       "      <td>ITEM_DETAIL</td>\n",
       "      <td>2018-08-20T13:46:27.790374Z</td>\n",
       "      <td>MOBILE</td>\n",
       "    </tr>\n",
       "    <tr>\n",
       "      <th>5928944</th>\n",
       "      <td>fffffaf6-55ee-428b-a3bf-075cd7f1a093</td>\n",
       "      <td>ITEM_DETAIL</td>\n",
       "      <td>2018-08-22T09:00:29.790374Z</td>\n",
       "      <td>MOBILE</td>\n",
       "    </tr>\n",
       "    <tr>\n",
       "      <th>5928945</th>\n",
       "      <td>fffffaf6-55ee-428b-a3bf-075cd7f1a093</td>\n",
       "      <td>ITEM_DETAIL</td>\n",
       "      <td>2018-08-24T04:20:30.790374Z</td>\n",
       "      <td>MOBILE</td>\n",
       "    </tr>\n",
       "    <tr>\n",
       "      <th>5928946</th>\n",
       "      <td>fffffaf6-55ee-428b-a3bf-075cd7f1a093</td>\n",
       "      <td>PROMO_PAGE</td>\n",
       "      <td>2018-08-25T23:35:58.790374Z</td>\n",
       "      <td>MOBILE</td>\n",
       "    </tr>\n",
       "    <tr>\n",
       "      <th>5928947</th>\n",
       "      <td>fffffaf6-55ee-428b-a3bf-075cd7f1a093</td>\n",
       "      <td>CLICK</td>\n",
       "      <td>2018-08-27T18:51:50.790374Z</td>\n",
       "      <td>MOBILE</td>\n",
       "    </tr>\n",
       "  </tbody>\n",
       "</table>\n",
       "<p>12833602 rows × 4 columns</p>\n",
       "</div>"
      ],
      "text/plain": [
       "                                   session_id   event_name   \n",
       "469318   00001f29-3ede-4445-95f0-0178934e32ba     HOMEPAGE  \\\n",
       "469319   00001f29-3ede-4445-95f0-0178934e32ba  ADD_TO_CART   \n",
       "469321   00001f29-3ede-4445-95f0-0178934e32ba     HOMEPAGE   \n",
       "469322   00001f29-3ede-4445-95f0-0178934e32ba        CLICK   \n",
       "469323   00001f29-3ede-4445-95f0-0178934e32ba        CLICK   \n",
       "...                                       ...          ...   \n",
       "5928943  fffffaf6-55ee-428b-a3bf-075cd7f1a093  ITEM_DETAIL   \n",
       "5928944  fffffaf6-55ee-428b-a3bf-075cd7f1a093  ITEM_DETAIL   \n",
       "5928945  fffffaf6-55ee-428b-a3bf-075cd7f1a093  ITEM_DETAIL   \n",
       "5928946  fffffaf6-55ee-428b-a3bf-075cd7f1a093   PROMO_PAGE   \n",
       "5928947  fffffaf6-55ee-428b-a3bf-075cd7f1a093        CLICK   \n",
       "\n",
       "                          event_time traffic_source  \n",
       "469318   2019-05-17T11:51:52.276396Z         MOBILE  \n",
       "469319   2019-05-17T19:54:53.276396Z         MOBILE  \n",
       "469321   2019-05-17T19:55:12.276396Z         MOBILE  \n",
       "469322   2019-05-18T03:58:25.276396Z         MOBILE  \n",
       "469323   2019-05-18T12:02:44.276396Z         MOBILE  \n",
       "...                              ...            ...  \n",
       "5928943  2018-08-20T13:46:27.790374Z         MOBILE  \n",
       "5928944  2018-08-22T09:00:29.790374Z         MOBILE  \n",
       "5928945  2018-08-24T04:20:30.790374Z         MOBILE  \n",
       "5928946  2018-08-25T23:35:58.790374Z         MOBILE  \n",
       "5928947  2018-08-27T18:51:50.790374Z         MOBILE  \n",
       "\n",
       "[12833602 rows x 4 columns]"
      ]
     },
     "execution_count": 7,
     "metadata": {},
     "output_type": "execute_result"
    }
   ],
   "source": [
    "click = df[['session_id','event_name','event_time','traffic_source']]\n",
    "click"
   ]
  },
  {
   "cell_type": "markdown",
   "metadata": {},
   "source": [
    "## 주문데이터"
   ]
  },
  {
   "cell_type": "code",
   "execution_count": 9,
   "metadata": {},
   "outputs": [],
   "source": [
    "df_t = df_transaction.copy()\n",
    "df_t.drop(columns=['created_at_2','promo_yesno','booking_id'],inplace=True)\n",
    "df_t['shipment_period'] = df_t['shipment_period'].apply(lambda x:x.split()[0]).astype(int)"
   ]
  },
  {
   "cell_type": "code",
   "execution_count": 10,
   "metadata": {},
   "outputs": [
    {
     "data": {
      "text/html": [
       "<div>\n",
       "<style scoped>\n",
       "    .dataframe tbody tr th:only-of-type {\n",
       "        vertical-align: middle;\n",
       "    }\n",
       "\n",
       "    .dataframe tbody tr th {\n",
       "        vertical-align: top;\n",
       "    }\n",
       "\n",
       "    .dataframe thead th {\n",
       "        text-align: right;\n",
       "    }\n",
       "</style>\n",
       "<table border=\"1\" class=\"dataframe\">\n",
       "  <thead>\n",
       "    <tr style=\"text-align: right;\">\n",
       "      <th></th>\n",
       "      <th>customer_id</th>\n",
       "      <th>purchase_period</th>\n",
       "    </tr>\n",
       "  </thead>\n",
       "  <tbody>\n",
       "    <tr>\n",
       "      <th>0</th>\n",
       "      <td>3</td>\n",
       "      <td>29.0</td>\n",
       "    </tr>\n",
       "    <tr>\n",
       "      <th>1</th>\n",
       "      <td>8</td>\n",
       "      <td>77.0</td>\n",
       "    </tr>\n",
       "    <tr>\n",
       "      <th>2</th>\n",
       "      <td>9</td>\n",
       "      <td>68.0</td>\n",
       "    </tr>\n",
       "    <tr>\n",
       "      <th>3</th>\n",
       "      <td>11</td>\n",
       "      <td>NaN</td>\n",
       "    </tr>\n",
       "    <tr>\n",
       "      <th>4</th>\n",
       "      <td>15</td>\n",
       "      <td>208.0</td>\n",
       "    </tr>\n",
       "    <tr>\n",
       "      <th>...</th>\n",
       "      <td>...</td>\n",
       "      <td>...</td>\n",
       "    </tr>\n",
       "    <tr>\n",
       "      <th>50700</th>\n",
       "      <td>99992</td>\n",
       "      <td>64.0</td>\n",
       "    </tr>\n",
       "    <tr>\n",
       "      <th>50701</th>\n",
       "      <td>99995</td>\n",
       "      <td>13.0</td>\n",
       "    </tr>\n",
       "    <tr>\n",
       "      <th>50702</th>\n",
       "      <td>99997</td>\n",
       "      <td>NaN</td>\n",
       "    </tr>\n",
       "    <tr>\n",
       "      <th>50703</th>\n",
       "      <td>99998</td>\n",
       "      <td>187.0</td>\n",
       "    </tr>\n",
       "    <tr>\n",
       "      <th>50704</th>\n",
       "      <td>99999</td>\n",
       "      <td>NaN</td>\n",
       "    </tr>\n",
       "  </tbody>\n",
       "</table>\n",
       "<p>50705 rows × 2 columns</p>\n",
       "</div>"
      ],
      "text/plain": [
       "       customer_id  purchase_period\n",
       "0                3             29.0\n",
       "1                8             77.0\n",
       "2                9             68.0\n",
       "3               11              NaN\n",
       "4               15            208.0\n",
       "...            ...              ...\n",
       "50700        99992             64.0\n",
       "50701        99995             13.0\n",
       "50702        99997              NaN\n",
       "50703        99998            187.0\n",
       "50704        99999              NaN\n",
       "\n",
       "[50705 rows x 2 columns]"
      ]
     },
     "execution_count": 10,
     "metadata": {},
     "output_type": "execute_result"
    }
   ],
   "source": [
    "# 평균접속주기를 구하기위한 코드\n",
    "a = df_t.groupby('customer_id')['created_at'].unique().reset_index()\n",
    "a = a.explode('created_at')\n",
    "a['created_at'] = pd.to_datetime(a['created_at'])\n",
    "a['purchase_period'] = a.groupby('customer_id')['created_at'].diff().dt.days+1\n",
    "a = a.groupby('customer_id')['purchase_period'].mean().reset_index().round(0)\n",
    "a\n"
   ]
  },
  {
   "cell_type": "code",
   "execution_count": 11,
   "metadata": {},
   "outputs": [
    {
     "data": {
      "text/html": [
       "<div>\n",
       "<style scoped>\n",
       "    .dataframe tbody tr th:only-of-type {\n",
       "        vertical-align: middle;\n",
       "    }\n",
       "\n",
       "    .dataframe tbody tr th {\n",
       "        vertical-align: top;\n",
       "    }\n",
       "\n",
       "    .dataframe thead th {\n",
       "        text-align: right;\n",
       "    }\n",
       "</style>\n",
       "<table border=\"1\" class=\"dataframe\">\n",
       "  <thead>\n",
       "    <tr style=\"text-align: right;\">\n",
       "      <th></th>\n",
       "      <th>customer_id</th>\n",
       "      <th>성별</th>\n",
       "      <th>위도</th>\n",
       "      <th>경도</th>\n",
       "      <th>가입날짜</th>\n",
       "      <th>첫주문</th>\n",
       "      <th>나이</th>\n",
       "      <th>마지막주문</th>\n",
       "      <th>최종접속경과일</th>\n",
       "      <th>총주문횟수</th>\n",
       "      <th>평균 접속 주기</th>\n",
       "      <th>위험비율</th>\n",
       "      <th>가입후첫주문까지걸린일수</th>\n",
       "      <th>이탈여부</th>\n",
       "    </tr>\n",
       "  </thead>\n",
       "  <tbody>\n",
       "    <tr>\n",
       "      <th>0</th>\n",
       "      <td>3</td>\n",
       "      <td>1</td>\n",
       "      <td>-6.151858</td>\n",
       "      <td>106.945839</td>\n",
       "      <td>2018-08-25</td>\n",
       "      <td>2018-08-25 18:54:03</td>\n",
       "      <td>36</td>\n",
       "      <td>2022-06-26 15:41:52</td>\n",
       "      <td>36</td>\n",
       "      <td>51</td>\n",
       "      <td>29.0</td>\n",
       "      <td>1.24</td>\n",
       "      <td>0</td>\n",
       "      <td>1</td>\n",
       "    </tr>\n",
       "    <tr>\n",
       "      <th>1</th>\n",
       "      <td>8</td>\n",
       "      <td>0</td>\n",
       "      <td>0.970013</td>\n",
       "      <td>124.816832</td>\n",
       "      <td>2021-02-13</td>\n",
       "      <td>2021-02-13 09:47:39</td>\n",
       "      <td>22</td>\n",
       "      <td>2022-05-15 22:46:22</td>\n",
       "      <td>78</td>\n",
       "      <td>7</td>\n",
       "      <td>77.0</td>\n",
       "      <td>1.01</td>\n",
       "      <td>0</td>\n",
       "      <td>1</td>\n",
       "    </tr>\n",
       "    <tr>\n",
       "      <th>2</th>\n",
       "      <td>9</td>\n",
       "      <td>0</td>\n",
       "      <td>-6.035939</td>\n",
       "      <td>106.747580</td>\n",
       "      <td>2021-06-26</td>\n",
       "      <td>2021-06-27 01:51:48</td>\n",
       "      <td>16</td>\n",
       "      <td>2022-05-28 08:44:32</td>\n",
       "      <td>65</td>\n",
       "      <td>6</td>\n",
       "      <td>68.0</td>\n",
       "      <td>0.96</td>\n",
       "      <td>1</td>\n",
       "      <td>1</td>\n",
       "    </tr>\n",
       "    <tr>\n",
       "      <th>3</th>\n",
       "      <td>11</td>\n",
       "      <td>1</td>\n",
       "      <td>1.189610</td>\n",
       "      <td>117.064209</td>\n",
       "      <td>2022-03-06</td>\n",
       "      <td>2022-03-07 14:29:13</td>\n",
       "      <td>29</td>\n",
       "      <td>2022-03-07 14:29:13</td>\n",
       "      <td>147</td>\n",
       "      <td>1</td>\n",
       "      <td>147.0</td>\n",
       "      <td>1.00</td>\n",
       "      <td>1</td>\n",
       "      <td>1</td>\n",
       "    </tr>\n",
       "    <tr>\n",
       "      <th>4</th>\n",
       "      <td>15</td>\n",
       "      <td>0</td>\n",
       "      <td>-7.321196</td>\n",
       "      <td>106.653088</td>\n",
       "      <td>2019-09-28</td>\n",
       "      <td>2019-09-30 04:47:36</td>\n",
       "      <td>39</td>\n",
       "      <td>2022-01-05 06:07:58</td>\n",
       "      <td>208</td>\n",
       "      <td>5</td>\n",
       "      <td>208.0</td>\n",
       "      <td>1.00</td>\n",
       "      <td>2</td>\n",
       "      <td>1</td>\n",
       "    </tr>\n",
       "    <tr>\n",
       "      <th>...</th>\n",
       "      <td>...</td>\n",
       "      <td>...</td>\n",
       "      <td>...</td>\n",
       "      <td>...</td>\n",
       "      <td>...</td>\n",
       "      <td>...</td>\n",
       "      <td>...</td>\n",
       "      <td>...</td>\n",
       "      <td>...</td>\n",
       "      <td>...</td>\n",
       "      <td>...</td>\n",
       "      <td>...</td>\n",
       "      <td>...</td>\n",
       "      <td>...</td>\n",
       "    </tr>\n",
       "    <tr>\n",
       "      <th>50700</th>\n",
       "      <td>99992</td>\n",
       "      <td>0</td>\n",
       "      <td>-4.434246</td>\n",
       "      <td>104.532857</td>\n",
       "      <td>2020-06-30</td>\n",
       "      <td>2020-06-30 21:03:37</td>\n",
       "      <td>38</td>\n",
       "      <td>2022-05-25 09:32:49</td>\n",
       "      <td>68</td>\n",
       "      <td>12</td>\n",
       "      <td>64.0</td>\n",
       "      <td>1.06</td>\n",
       "      <td>0</td>\n",
       "      <td>1</td>\n",
       "    </tr>\n",
       "    <tr>\n",
       "      <th>50701</th>\n",
       "      <td>99995</td>\n",
       "      <td>0</td>\n",
       "      <td>-8.196262</td>\n",
       "      <td>110.710026</td>\n",
       "      <td>2020-08-16</td>\n",
       "      <td>2020-08-19 09:50:48</td>\n",
       "      <td>17</td>\n",
       "      <td>2022-07-29 03:54:17</td>\n",
       "      <td>3</td>\n",
       "      <td>60</td>\n",
       "      <td>13.0</td>\n",
       "      <td>0.23</td>\n",
       "      <td>3</td>\n",
       "      <td>0</td>\n",
       "    </tr>\n",
       "    <tr>\n",
       "      <th>50702</th>\n",
       "      <td>99997</td>\n",
       "      <td>1</td>\n",
       "      <td>-8.791134</td>\n",
       "      <td>118.804722</td>\n",
       "      <td>2020-04-25</td>\n",
       "      <td>2020-04-25 18:38:16</td>\n",
       "      <td>18</td>\n",
       "      <td>2020-04-25 18:38:16</td>\n",
       "      <td>828</td>\n",
       "      <td>1</td>\n",
       "      <td>828.0</td>\n",
       "      <td>1.00</td>\n",
       "      <td>0</td>\n",
       "      <td>1</td>\n",
       "    </tr>\n",
       "    <tr>\n",
       "      <th>50703</th>\n",
       "      <td>99998</td>\n",
       "      <td>0</td>\n",
       "      <td>-4.092411</td>\n",
       "      <td>105.179376</td>\n",
       "      <td>2018-07-01</td>\n",
       "      <td>2018-07-02 20:56:19</td>\n",
       "      <td>8</td>\n",
       "      <td>2022-01-25 00:54:09</td>\n",
       "      <td>188</td>\n",
       "      <td>8</td>\n",
       "      <td>187.0</td>\n",
       "      <td>1.01</td>\n",
       "      <td>1</td>\n",
       "      <td>1</td>\n",
       "    </tr>\n",
       "    <tr>\n",
       "      <th>50704</th>\n",
       "      <td>99999</td>\n",
       "      <td>1</td>\n",
       "      <td>-4.876648</td>\n",
       "      <td>104.598266</td>\n",
       "      <td>2016-10-12</td>\n",
       "      <td>2016-10-12 19:22:21</td>\n",
       "      <td>12</td>\n",
       "      <td>2016-10-12 19:22:21</td>\n",
       "      <td>2119</td>\n",
       "      <td>1</td>\n",
       "      <td>2119.0</td>\n",
       "      <td>1.00</td>\n",
       "      <td>0</td>\n",
       "      <td>1</td>\n",
       "    </tr>\n",
       "  </tbody>\n",
       "</table>\n",
       "<p>50705 rows × 14 columns</p>\n",
       "</div>"
      ],
      "text/plain": [
       "       customer_id  성별        위도          경도        가입날짜                  첫주문   \n",
       "0                3   1 -6.151858  106.945839  2018-08-25  2018-08-25 18:54:03  \\\n",
       "1                8   0  0.970013  124.816832  2021-02-13  2021-02-13 09:47:39   \n",
       "2                9   0 -6.035939  106.747580  2021-06-26  2021-06-27 01:51:48   \n",
       "3               11   1  1.189610  117.064209  2022-03-06  2022-03-07 14:29:13   \n",
       "4               15   0 -7.321196  106.653088  2019-09-28  2019-09-30 04:47:36   \n",
       "...            ...  ..       ...         ...         ...                  ...   \n",
       "50700        99992   0 -4.434246  104.532857  2020-06-30  2020-06-30 21:03:37   \n",
       "50701        99995   0 -8.196262  110.710026  2020-08-16  2020-08-19 09:50:48   \n",
       "50702        99997   1 -8.791134  118.804722  2020-04-25  2020-04-25 18:38:16   \n",
       "50703        99998   0 -4.092411  105.179376  2018-07-01  2018-07-02 20:56:19   \n",
       "50704        99999   1 -4.876648  104.598266  2016-10-12  2016-10-12 19:22:21   \n",
       "\n",
       "       나이                마지막주문  최종접속경과일  총주문횟수  평균 접속 주기  위험비율  가입후첫주문까지걸린일수   \n",
       "0      36  2022-06-26 15:41:52       36     51      29.0  1.24             0  \\\n",
       "1      22  2022-05-15 22:46:22       78      7      77.0  1.01             0   \n",
       "2      16  2022-05-28 08:44:32       65      6      68.0  0.96             1   \n",
       "3      29  2022-03-07 14:29:13      147      1     147.0  1.00             1   \n",
       "4      39  2022-01-05 06:07:58      208      5     208.0  1.00             2   \n",
       "...    ..                  ...      ...    ...       ...   ...           ...   \n",
       "50700  38  2022-05-25 09:32:49       68     12      64.0  1.06             0   \n",
       "50701  17  2022-07-29 03:54:17        3     60      13.0  0.23             3   \n",
       "50702  18  2020-04-25 18:38:16      828      1     828.0  1.00             0   \n",
       "50703   8  2022-01-25 00:54:09      188      8     187.0  1.01             1   \n",
       "50704  12  2016-10-12 19:22:21     2119      1    2119.0  1.00             0   \n",
       "\n",
       "       이탈여부  \n",
       "0         1  \n",
       "1         1  \n",
       "2         1  \n",
       "3         1  \n",
       "4         1  \n",
       "...     ...  \n",
       "50700     1  \n",
       "50701     0  \n",
       "50702     1  \n",
       "50703     1  \n",
       "50704     1  \n",
       "\n",
       "[50705 rows x 14 columns]"
      ]
     },
     "execution_count": 11,
     "metadata": {},
     "output_type": "execute_result"
    }
   ],
   "source": [
    "df_c = df_customer.copy()\n",
    "df_c = df_c.drop(columns=['home_country','home_location','device_version','device_id','device_type','first_name','last_name','username','email'])\n",
    "df_c = df_c.merge(df_t.groupby('customer_id')['created_at'].first().reset_index(),on='customer_id',how='right')\n",
    "df_c['나이'] = pd.to_datetime('2022-08-01').year-pd.to_datetime(df_c['birthdate']).dt.year\n",
    "df_c = df_c.merge(df_t.groupby('customer_id')['created_at'].last().reset_index(),on='customer_id',how='left')\n",
    "df_c['최종접속경과일'] = (pd.to_datetime('2022-08-01') - pd.to_datetime(df_c['created_at_y'])).dt.days+1\n",
    "df_c.drop(columns='birthdate',inplace=True)\n",
    "df_c = df_c.merge(df_t.groupby('customer_id')['created_at'].count().reset_index(),on='customer_id',how='left')\n",
    "df_c = df_c.merge(a,on='customer_id',how='left')\n",
    "df_c.columns = ['customer_id','성별','위도','경도','가입날짜','첫주문','나이','마지막주문','최종접속경과일','총주문횟수','평균 접속 주기']\n",
    "df_c['평균 접속 주기'].fillna(df_c['최종접속경과일'], inplace=True)\n",
    "df_c['위험비율'] = round(df_c['최종접속경과일']/df_c['평균 접속 주기'],2)\n",
    "df_c['가입후첫주문까지걸린일수'] = (pd.to_datetime(df_c['첫주문']) - pd.to_datetime(df_c['가입날짜'])).dt.days\n",
    "df_c['이탈여부'] = df_c['최종접속경과일'].apply(lambda x: 1 if x>15 else 0)\n",
    "df_c['성별'] = df_c['성별'].apply(lambda x: 1 if x=='M' else 0)\n",
    "df_c"
   ]
  },
  {
   "cell_type": "code",
   "execution_count": 12,
   "metadata": {},
   "outputs": [
    {
     "data": {
      "text/html": [
       "<div>\n",
       "<style scoped>\n",
       "    .dataframe tbody tr th:only-of-type {\n",
       "        vertical-align: middle;\n",
       "    }\n",
       "\n",
       "    .dataframe tbody tr th {\n",
       "        vertical-align: top;\n",
       "    }\n",
       "\n",
       "    .dataframe thead th {\n",
       "        text-align: right;\n",
       "    }\n",
       "</style>\n",
       "<table border=\"1\" class=\"dataframe\">\n",
       "  <thead>\n",
       "    <tr style=\"text-align: right;\">\n",
       "      <th></th>\n",
       "      <th>customer_id</th>\n",
       "      <th>성별</th>\n",
       "      <th>위도</th>\n",
       "      <th>경도</th>\n",
       "      <th>나이</th>\n",
       "      <th>최종접속경과일</th>\n",
       "      <th>총주문횟수</th>\n",
       "      <th>평균 접속 주기</th>\n",
       "      <th>위험비율</th>\n",
       "      <th>가입후첫주문까지걸린일수</th>\n",
       "      <th>이탈여부</th>\n",
       "    </tr>\n",
       "  </thead>\n",
       "  <tbody>\n",
       "    <tr>\n",
       "      <th>count</th>\n",
       "      <td>50705.000000</td>\n",
       "      <td>50705.000000</td>\n",
       "      <td>50705.000000</td>\n",
       "      <td>50705.000000</td>\n",
       "      <td>50705.000000</td>\n",
       "      <td>50705.000000</td>\n",
       "      <td>50705.000000</td>\n",
       "      <td>50705.000000</td>\n",
       "      <td>50705.000000</td>\n",
       "      <td>50705.000000</td>\n",
       "      <td>50705.00000</td>\n",
       "    </tr>\n",
       "    <tr>\n",
       "      <th>mean</th>\n",
       "      <td>49810.881353</td>\n",
       "      <td>0.358091</td>\n",
       "      <td>-5.085239</td>\n",
       "      <td>110.941290</td>\n",
       "      <td>26.525136</td>\n",
       "      <td>300.083404</td>\n",
       "      <td>16.814594</td>\n",
       "      <td>300.408914</td>\n",
       "      <td>1.052866</td>\n",
       "      <td>1.030490</td>\n",
       "      <td>0.89648</td>\n",
       "    </tr>\n",
       "    <tr>\n",
       "      <th>std</th>\n",
       "      <td>28957.608061</td>\n",
       "      <td>0.479444</td>\n",
       "      <td>3.098986</td>\n",
       "      <td>6.395324</td>\n",
       "      <td>7.268710</td>\n",
       "      <td>436.187183</td>\n",
       "      <td>29.711045</td>\n",
       "      <td>436.243001</td>\n",
       "      <td>0.742452</td>\n",
       "      <td>1.470339</td>\n",
       "      <td>0.30464</td>\n",
       "    </tr>\n",
       "    <tr>\n",
       "      <th>min</th>\n",
       "      <td>3.000000</td>\n",
       "      <td>0.000000</td>\n",
       "      <td>-10.812034</td>\n",
       "      <td>95.275319</td>\n",
       "      <td>6.000000</td>\n",
       "      <td>1.000000</td>\n",
       "      <td>1.000000</td>\n",
       "      <td>1.000000</td>\n",
       "      <td>0.030000</td>\n",
       "      <td>0.000000</td>\n",
       "      <td>0.00000</td>\n",
       "    </tr>\n",
       "    <tr>\n",
       "      <th>25%</th>\n",
       "      <td>24694.000000</td>\n",
       "      <td>0.000000</td>\n",
       "      <td>-7.367122</td>\n",
       "      <td>106.861050</td>\n",
       "      <td>21.000000</td>\n",
       "      <td>40.000000</td>\n",
       "      <td>2.000000</td>\n",
       "      <td>37.000000</td>\n",
       "      <td>0.970000</td>\n",
       "      <td>0.000000</td>\n",
       "      <td>1.00000</td>\n",
       "    </tr>\n",
       "    <tr>\n",
       "      <th>50%</th>\n",
       "      <td>49712.000000</td>\n",
       "      <td>0.000000</td>\n",
       "      <td>-6.237748</td>\n",
       "      <td>110.161505</td>\n",
       "      <td>26.000000</td>\n",
       "      <td>111.000000</td>\n",
       "      <td>6.000000</td>\n",
       "      <td>112.000000</td>\n",
       "      <td>1.000000</td>\n",
       "      <td>1.000000</td>\n",
       "      <td>1.00000</td>\n",
       "    </tr>\n",
       "    <tr>\n",
       "      <th>75%</th>\n",
       "      <td>74863.000000</td>\n",
       "      <td>1.000000</td>\n",
       "      <td>-3.049065</td>\n",
       "      <td>113.196497</td>\n",
       "      <td>31.000000</td>\n",
       "      <td>360.000000</td>\n",
       "      <td>18.000000</td>\n",
       "      <td>361.000000</td>\n",
       "      <td>1.000000</td>\n",
       "      <td>1.000000</td>\n",
       "      <td>1.00000</td>\n",
       "    </tr>\n",
       "    <tr>\n",
       "      <th>max</th>\n",
       "      <td>99999.000000</td>\n",
       "      <td>1.000000</td>\n",
       "      <td>5.818355</td>\n",
       "      <td>140.980485</td>\n",
       "      <td>68.000000</td>\n",
       "      <td>2222.000000</td>\n",
       "      <td>550.000000</td>\n",
       "      <td>2222.000000</td>\n",
       "      <td>34.000000</td>\n",
       "      <td>15.000000</td>\n",
       "      <td>1.00000</td>\n",
       "    </tr>\n",
       "  </tbody>\n",
       "</table>\n",
       "</div>"
      ],
      "text/plain": [
       "        customer_id            성별            위도            경도            나이   \n",
       "count  50705.000000  50705.000000  50705.000000  50705.000000  50705.000000  \\\n",
       "mean   49810.881353      0.358091     -5.085239    110.941290     26.525136   \n",
       "std    28957.608061      0.479444      3.098986      6.395324      7.268710   \n",
       "min        3.000000      0.000000    -10.812034     95.275319      6.000000   \n",
       "25%    24694.000000      0.000000     -7.367122    106.861050     21.000000   \n",
       "50%    49712.000000      0.000000     -6.237748    110.161505     26.000000   \n",
       "75%    74863.000000      1.000000     -3.049065    113.196497     31.000000   \n",
       "max    99999.000000      1.000000      5.818355    140.980485     68.000000   \n",
       "\n",
       "            최종접속경과일         총주문횟수      평균 접속 주기          위험비율  가입후첫주문까지걸린일수   \n",
       "count  50705.000000  50705.000000  50705.000000  50705.000000  50705.000000  \\\n",
       "mean     300.083404     16.814594    300.408914      1.052866      1.030490   \n",
       "std      436.187183     29.711045    436.243001      0.742452      1.470339   \n",
       "min        1.000000      1.000000      1.000000      0.030000      0.000000   \n",
       "25%       40.000000      2.000000     37.000000      0.970000      0.000000   \n",
       "50%      111.000000      6.000000    112.000000      1.000000      1.000000   \n",
       "75%      360.000000     18.000000    361.000000      1.000000      1.000000   \n",
       "max     2222.000000    550.000000   2222.000000     34.000000     15.000000   \n",
       "\n",
       "              이탈여부  \n",
       "count  50705.00000  \n",
       "mean       0.89648  \n",
       "std        0.30464  \n",
       "min        0.00000  \n",
       "25%        1.00000  \n",
       "50%        1.00000  \n",
       "75%        1.00000  \n",
       "max        1.00000  "
      ]
     },
     "execution_count": 12,
     "metadata": {},
     "output_type": "execute_result"
    }
   ],
   "source": [
    "df_c.describe()"
   ]
  },
  {
   "cell_type": "code",
   "execution_count": 13,
   "metadata": {},
   "outputs": [
    {
     "data": {
      "text/plain": [
       "이탈여부\n",
       "1    45456\n",
       "0     5249\n",
       "Name: count, dtype: int64"
      ]
     },
     "execution_count": 13,
     "metadata": {},
     "output_type": "execute_result"
    }
   ],
   "source": [
    "df_c['이탈여부'].value_counts()"
   ]
  },
  {
   "cell_type": "code",
   "execution_count": 14,
   "metadata": {},
   "outputs": [
    {
     "data": {
      "text/plain": [
       "최종접속경과일\n",
       "1       0.010709\n",
       "2       0.008106\n",
       "7       0.007534\n",
       "29      0.007475\n",
       "28      0.007337\n",
       "          ...   \n",
       "1216    0.000020\n",
       "1377    0.000020\n",
       "1866    0.000020\n",
       "1674    0.000020\n",
       "2119    0.000020\n",
       "Name: proportion, Length: 2062, dtype: float64"
      ]
     },
     "execution_count": 14,
     "metadata": {},
     "output_type": "execute_result"
    }
   ],
   "source": [
    "(df_c['최종접속경과일'].value_counts(normalize=True)).sort_values(ascending=False)"
   ]
  },
  {
   "cell_type": "markdown",
   "metadata": {},
   "source": [
    "## 로지스틱회귀분석"
   ]
  },
  {
   "cell_type": "code",
   "execution_count": 82,
   "metadata": {},
   "outputs": [],
   "source": [
    "logi_df = df_c[['customer_id','성별','나이','총주문횟수','평균 접속 주기','가입후첫주문까지걸린일수','이탈여부']]"
   ]
  },
  {
   "cell_type": "code",
   "execution_count": 83,
   "metadata": {},
   "outputs": [
    {
     "data": {
      "image/png": "[encoded data removed]",
      "text/plain": [
       "<Figure size 640x480 with 2 Axes>"
      ]
     },
     "metadata": {},
     "output_type": "display_data"
    }
   ],
   "source": [
    "heatmap = sns.heatmap(logi_df.corr(), annot=True, cmap='coolwarm', linewidths=0.5, fmt=\".2f\")"
   ]
  },
  {
   "cell_type": "code",
   "execution_count": 84,
   "metadata": {},
   "outputs": [
    {
     "name": "stdout",
     "output_type": "stream",
     "text": [
      "Train 데이터 수: 30423\n",
      "Validation 데이터 수: 10141\n",
      "Test 데이터 수: 10141\n"
     ]
    }
   ],
   "source": [
    "# train, val, test set 나누기\n",
    "from sklearn.model_selection import StratifiedKFold\n",
    "from sklearn.model_selection import cross_val_score\n",
    "from sklearn.linear_model import LogisticRegression\n",
    "from sklearn.model_selection import train_test_split\n",
    "from sklearn.preprocessing import StandardScaler\n",
    "from sklearn.metrics import classification_report, recall_score, precision_score, f1_score, accuracy_score\n",
    "\n",
    "\n",
    "# features와 label 준비 (이미 준비되어 있다고 가정)\n",
    "features = logi_df.drop(columns=['customer_id','이탈여부'])\n",
    "label = logi_df['이탈여부']\n",
    "\n",
    "# 데이터를 train, test, val로 나누기\n",
    "# 먼저 train과 나머지를 나누고, 나머지를 다시 test와 val로 나눕니다.\n",
    "# stratify=label은 클래스 불균형을 고려하여 데이터를 분할합니다. 이것은 각 분할에서 클래스 비율을 유지하도록 합니다. 즉, 불균형한 타겟 데이터의 비율이 각 세트에서 유지됩니다.\n",
    "X_train, X_temp, y_train, y_temp = train_test_split(features, label, test_size=0.4, random_state=42, stratify=label)\n",
    "\n",
    "# 나머지를 test와 val로 나누기\n",
    "X_test, X_val, y_test, y_val = train_test_split(X_temp, y_temp, test_size=0.5, random_state=42, stratify=y_temp)\n",
    "\n",
    "# 나눈 데이터 세트의 크기 확인\n",
    "print(\"Train 데이터 수:\", len(X_train))\n",
    "print(\"Validation 데이터 수:\", len(X_val))\n",
    "print(\"Test 데이터 수:\", len(X_test))"
   ]
  },
  {
   "cell_type": "code",
   "execution_count": 85,
   "metadata": {},
   "outputs": [
    {
     "name": "stdout",
     "output_type": "stream",
     "text": [
      "training accuracy:  0.9\n",
      "validation accuracy:  0.9\n"
     ]
    }
   ],
   "source": [
    "#y_train의 최빈값.\n",
    "# 기준모델\n",
    "base_major = y_train.mode()[0]\n",
    "y_pred_base = [base_major] * len(y_train)\n",
    "\n",
    "# 기준모델의 정확도\n",
    "print(\"training accuracy: \", accuracy_score(y_train, y_pred_base).round(2))\n",
    "\n",
    "# 검증세트의 정확도\n",
    "y_pred_base_val = [base_major] * len(y_val)\n",
    "print(\"validation accuracy: \", accuracy_score(y_val, y_pred_base_val).round(2))"
   ]
  },
  {
   "cell_type": "code",
   "execution_count": 86,
   "metadata": {},
   "outputs": [],
   "source": [
    "# 로지스틱회귀는 패널티가 적용되는 정규화모델이라서 표준화필수\n",
    "scaler = StandardScaler()\n",
    "X_train = scaler.fit_transform(X_train)\n",
    "X_val = scaler.transform(X_val)\n",
    "X_test = scaler.transform(X_test)"
   ]
  },
  {
   "cell_type": "code",
   "execution_count": 87,
   "metadata": {},
   "outputs": [
    {
     "name": "stdout",
     "output_type": "stream",
     "text": [
      "logistic train accuracy 0.94\n",
      "logistic validation accuracy:  0.94\n"
     ]
    }
   ],
   "source": [
    "logistic = LogisticRegression()\n",
    "logistic.fit(X_train, y_train)\n",
    "\n",
    "# 예측 및 정확도 확인\n",
    "y_val_pred = logistic.predict(X_val)\n",
    "\n",
    "print('logistic train accuracy', logistic.score(X_train, y_train).round(2))\n",
    "print(\"logistic validation accuracy: \", accuracy_score(y_val, y_val_pred).round(2))\n",
    "\n",
    "# 타켓이 불균형하기 때문에 정확도는 지표로 사용X"
   ]
  },
  {
   "cell_type": "code",
   "execution_count": 89,
   "metadata": {},
   "outputs": [
    {
     "name": "stdout",
     "output_type": "stream",
     "text": [
      "회귀계수가 양수인 특성 상위 3개\n"
     ]
    },
    {
     "ename": "AttributeError",
     "evalue": "'LogisticRegression' object has no attribute 'feature_names_in_'",
     "output_type": "error",
     "traceback": [
      "\u001b[1;31m---------------------------------------------------------------------------\u001b[0m",
      "\u001b[1;31mAttributeError\u001b[0m                            Traceback (most recent call last)",
      "\u001b[1;32mc:\\Users\\KIMJEONGSU.DESKTOP-3GN3AD1\\Desktop\\section4\\ecommerce\\model\\model.ipynb Cell 23\u001b[0m line \u001b[0;36m2\n\u001b[0;32m      <a href='vscode-notebook-cell:/c%3A/Users/KIMJEONGSU.DESKTOP-3GN3AD1/Desktop/section4/ecommerce/model/model.ipynb#X50sZmlsZQ%3D%3D?line=0'>1</a>\u001b[0m \u001b[39mprint\u001b[39m(\u001b[39m'\u001b[39m\u001b[39m회귀계수가 양수인 특성 상위 3개\u001b[39m\u001b[39m'\u001b[39m)\n\u001b[1;32m----> <a href='vscode-notebook-cell:/c%3A/Users/KIMJEONGSU.DESKTOP-3GN3AD1/Desktop/section4/ecommerce/model/model.ipynb#X50sZmlsZQ%3D%3D?line=1'>2</a>\u001b[0m \u001b[39mprint\u001b[39m(pd\u001b[39m.\u001b[39mSeries(logistic\u001b[39m.\u001b[39mcoef_[\u001b[39m0\u001b[39m], logistic\u001b[39m.\u001b[39;49mfeature_names_in_)\u001b[39m.\u001b[39msort_values(ascending\u001b[39m=\u001b[39m\u001b[39mFalse\u001b[39;00m)\u001b[39m.\u001b[39mhead(\u001b[39m3\u001b[39m), \u001b[39m'\u001b[39m\u001b[39m\\n\u001b[39;00m\u001b[39m'\u001b[39m)\n\u001b[0;32m      <a href='vscode-notebook-cell:/c%3A/Users/KIMJEONGSU.DESKTOP-3GN3AD1/Desktop/section4/ecommerce/model/model.ipynb#X50sZmlsZQ%3D%3D?line=2'>3</a>\u001b[0m \u001b[39mprint\u001b[39m(\u001b[39m'\u001b[39m\u001b[39m회귀계수가 음수인 특성 하위 3개\u001b[39m\u001b[39m'\u001b[39m)\n\u001b[0;32m      <a href='vscode-notebook-cell:/c%3A/Users/KIMJEONGSU.DESKTOP-3GN3AD1/Desktop/section4/ecommerce/model/model.ipynb#X50sZmlsZQ%3D%3D?line=3'>4</a>\u001b[0m \u001b[39mprint\u001b[39m(pd\u001b[39m.\u001b[39mSeries(logistic\u001b[39m.\u001b[39mcoef_[\u001b[39m0\u001b[39m], logistic\u001b[39m.\u001b[39mfeature_names_in_)\u001b[39m.\u001b[39msort_values(ascending\u001b[39m=\u001b[39m\u001b[39mFalse\u001b[39;00m)\u001b[39m.\u001b[39mtail(\u001b[39m3\u001b[39m))\n",
      "\u001b[1;31mAttributeError\u001b[0m: 'LogisticRegression' object has no attribute 'feature_names_in_'"
     ]
    }
   ],
   "source": [
    "print('회귀계수가 양수인 특성 상위 3개')\n",
    "print(pd.Series(logistic.coef_[0], logistic.feature_names_in_).sort_values(ascending=False).head(3), '\\n')\n",
    "print('회귀계수가 음수인 특성 하위 3개')\n",
    "print(pd.Series(logistic.coef_[0], logistic.feature_names_in_).sort_values(ascending=False).tail(3))"
   ]
  },
  {
   "cell_type": "code",
   "execution_count": 59,
   "metadata": {},
   "outputs": [
    {
     "data": {
      "text/html": [
       "<div>\n",
       "<style scoped>\n",
       "    .dataframe tbody tr th:only-of-type {\n",
       "        vertical-align: middle;\n",
       "    }\n",
       "\n",
       "    .dataframe tbody tr th {\n",
       "        vertical-align: top;\n",
       "    }\n",
       "\n",
       "    .dataframe thead th {\n",
       "        text-align: right;\n",
       "    }\n",
       "</style>\n",
       "<table border=\"1\" class=\"dataframe\">\n",
       "  <thead>\n",
       "    <tr style=\"text-align: right;\">\n",
       "      <th></th>\n",
       "      <th>Predicted 0</th>\n",
       "      <th>Predicted 1</th>\n",
       "    </tr>\n",
       "  </thead>\n",
       "  <tbody>\n",
       "    <tr>\n",
       "      <th>True 0</th>\n",
       "      <td>1050</td>\n",
       "      <td>0</td>\n",
       "    </tr>\n",
       "    <tr>\n",
       "      <th>True1</th>\n",
       "      <td>9091</td>\n",
       "      <td>0</td>\n",
       "    </tr>\n",
       "  </tbody>\n",
       "</table>\n",
       "</div>"
      ],
      "text/plain": [
       "        Predicted 0  Predicted 1\n",
       "True 0         1050            0\n",
       "True1          9091            0"
      ]
     },
     "execution_count": 59,
     "metadata": {},
     "output_type": "execute_result"
    }
   ],
   "source": [
    "y_true0 = y_val.value_counts()[0]\n",
    "y_true1 = y_val.value_counts()[1]\n",
    "fn = len(y_pred_base_val) - y_true0\n",
    "base = pd.DataFrame(index = ['True 0', 'True1'], data = {'Predicted 0':[y_true0, fn], 'Predicted 1':[0,0]})\n",
    "base"
   ]
  },
  {
   "cell_type": "code",
   "execution_count": 60,
   "metadata": {},
   "outputs": [
    {
     "data": {
      "image/png": "[encoded data removed]",
      "text/plain": [
       "<Figure size 640x480 with 2 Axes>"
      ]
     },
     "metadata": {},
     "output_type": "display_data"
    }
   ],
   "source": [
    "fig, ax = plt.subplots()\n",
    "sns.heatmap(base, cmap=plt.cm.Blues, annot=True,fmt=\"d\")\n",
    "plt.title(f'Confusion matrix of Baseline, n = {len(y_val)}', fontsize=15)\n",
    "plt.show()"
   ]
  },
  {
   "cell_type": "code",
   "execution_count": 61,
   "metadata": {},
   "outputs": [
    {
     "data": {
      "image/png": "[encoded data removed]",
      "text/plain": [
       "<Figure size 640x480 with 2 Axes>"
      ]
     },
     "metadata": {},
     "output_type": "display_data"
    }
   ],
   "source": [
    "# 매트릭스\n",
    "from sklearn.metrics import confusion_matrix\n",
    "sns.heatmap(confusion_matrix(y_val,y_val_pred), annot=True, fmt='d', cmap=plt.cm.Blues)\n",
    "plt.xlabel('Predicted')\n",
    "plt.ylabel('True');\n",
    "\n",
    "# 왼쪽 위 (cm[0, 0]): True Negative (실제 Negative, 모델이 Negative 예측)\n",
    "# 오른쪽 위 (cm[0, 1]): False Positive (실제 Negative, 모델이 Positive 예측)\n",
    "# 왼쪽 아래 (cm[1, 0]): False Negative (실제 Positive, 모델이 Negative 예측)\n",
    "# 오른쪽 아래 (cm[1, 1]): True Positive (실제 Positive, 모델이 Positive 예측)"
   ]
  },
  {
   "cell_type": "code",
   "execution_count": 80,
   "metadata": {},
   "outputs": [
    {
     "name": "stdout",
     "output_type": "stream",
     "text": [
      "              precision    recall  f1-score   support\n",
      "\n",
      "           0       0.73      0.72      0.73      1050\n",
      "           1       0.97      0.97      0.97      9091\n",
      "\n",
      "    accuracy                           0.94     10141\n",
      "   macro avg       0.85      0.85      0.85     10141\n",
      "weighted avg       0.94      0.94      0.94     10141\n",
      "\n",
      "accuracy of logistic regression is 0.94\n",
      "precision of logistic regression is 0.97\n",
      "recall of logistic regression is 0.97\n",
      "f1 of logistic regression is 0.97\n"
     ]
    }
   ],
   "source": [
    "from sklearn.metrics import classification_report, recall_score, precision_score, f1_score\n",
    "\n",
    "print(classification_report(y_val, y_val_pred))\n",
    "\n",
    "accuracy = accuracy_score(y_val, y_val_pred)\n",
    "precision = precision_score(y_val, y_val_pred)\n",
    "recall = recall_score(y_val, y_val_pred)\n",
    "f1 = f1_score(y_val, y_val_pred)\n",
    "\n",
    "print(f'accuracy of logistic regression is {accuracy.round(2)}')\n",
    "print(f'precision of logistic regression is {precision.round(2)}')\n",
    "print(f'recall of logistic regression is {recall.round(2)}')\n",
    "print(f'f1 of logistic regression is {f1.round(2)}')"
   ]
  },
  {
   "cell_type": "code",
   "execution_count": 81,
   "metadata": {},
   "outputs": [
    {
     "data": {
      "text/plain": [
       "True     9103\n",
       "False    1038\n",
       "Name: count, dtype: int64"
      ]
     },
     "execution_count": 81,
     "metadata": {},
     "output_type": "execute_result"
    },
    {
     "data": {
      "image/png": "[encoded data removed]",
      "text/plain": [
       "<Figure size 500x500 with 1 Axes>"
      ]
     },
     "metadata": {},
     "output_type": "display_data"
    }
   ],
   "source": [
    "y_pred_proba = logistic.predict_proba(X_val)[:,1]\n",
    "sns.displot(y_pred_proba)\n",
    "\n",
    "threshold = 0.5\n",
    "y_pred = y_pred_proba > threshold\n",
    "\n",
    "ax = sns.histplot(y_pred_proba)\n",
    "ax.axvline(threshold, color='red')\n",
    "\n",
    "pd.Series(y_pred).value_counts()"
   ]
  },
  {
   "cell_type": "code",
   "execution_count": 78,
   "metadata": {},
   "outputs": [
    {
     "name": "stdout",
     "output_type": "stream",
     "text": [
      "              precision    recall  f1-score   support\n",
      "\n",
      "           0       0.73      0.72      0.73      1050\n",
      "           1       0.97      0.97      0.97      9091\n",
      "\n",
      "    accuracy                           0.94     10141\n",
      "   macro avg       0.85      0.85      0.85     10141\n",
      "weighted avg       0.94      0.94      0.94     10141\n",
      "\n"
     ]
    },
    {
     "data": {
      "image/png": "[encoded data removed]",
      "text/plain": [
       "<Figure size 500x500 with 1 Axes>"
      ]
     },
     "metadata": {},
     "output_type": "display_data"
    }
   ],
   "source": [
    "sns.displot(y_pred_proba)\n",
    "\n",
    "threshold = 0.5\n",
    "y_pred = y_pred_proba > threshold\n",
    "\n",
    "ax = sns.histplot(y_pred_proba)\n",
    "ax.axvline(threshold, color='red')\n",
    "\n",
    "pd.Series(y_pred).value_counts()\n",
    "\n",
    "print(classification_report(y_val, y_pred))"
   ]
  },
  {
   "cell_type": "code",
   "execution_count": 64,
   "metadata": {},
   "outputs": [
    {
     "data": {
      "image/png": "[encoded data removed]",
      "text/plain": [
       "<Figure size 640x480 with 2 Axes>"
      ]
     },
     "metadata": {},
     "output_type": "display_data"
    }
   ],
   "source": [
    "from sklearn.metrics import confusion_matrix\n",
    "sns.heatmap(confusion_matrix(y_val,y_pred), annot=True, fmt='d', cmap=plt.cm.Blues)\n",
    "plt.xlabel('Predicted')\n",
    "plt.ylabel('True');"
   ]
  },
  {
   "cell_type": "code",
   "execution_count": 68,
   "metadata": {},
   "outputs": [
    {
     "name": "stdout",
     "output_type": "stream",
     "text": [
      "     FPR(Fall-out)  TPR(Recall)  Threshold\n",
      "0         0.000000     0.000000        inf\n",
      "1         0.000000     0.393356   1.000000\n",
      "2         0.000000     0.399406   1.000000\n",
      "3         0.000000     0.401826   1.000000\n",
      "4         0.000000     0.403586   1.000000\n",
      "..             ...          ...        ...\n",
      "902       0.919048     0.999890   0.069605\n",
      "903       0.919048     1.000000   0.069508\n",
      "904       0.978095     1.000000   0.047858\n",
      "905       0.980000     1.000000   0.047726\n",
      "906       1.000000     1.000000   0.025402\n",
      "\n",
      "[907 rows x 3 columns]\n"
     ]
    },
    {
     "data": {
      "image/png": "[encoded data removed]",
      "text/plain": [
       "<Figure size 640x480 with 1 Axes>"
      ]
     },
     "metadata": {},
     "output_type": "display_data"
    }
   ],
   "source": [
    "from sklearn.metrics import roc_curve\n",
    "\n",
    "y_pred_proba = logistic.predict_proba(X_val)[:,1]\n",
    "\n",
    "# roc_curve(타겟값, prob of 1)\n",
    "\n",
    "fpr, tpr, thresholds = roc_curve(y_val, y_pred_proba)\n",
    "\n",
    "roc = pd.DataFrame({\n",
    "    'FPR(Fall-out)': fpr, \n",
    "    'TPR(Recall)': tpr, \n",
    "    'Threshold': thresholds\n",
    "})\n",
    "print(roc)\n",
    "\n",
    "\n",
    "plt.plot(fpr, tpr, label='Logistic Regression')\n",
    "x_base = np.arange(0, 1.0, 0.01)\n",
    "y_base = np.arange(0, 1.0, 0.01)\n",
    "plt.plot(x_base, y_base, linestyle='--', color = 'orange', alpha=0.7, label='Random')\n",
    "plt.title('ROC curve')\n",
    "plt.xlabel('FPR(Fall-out)')\n",
    "plt.ylabel('TPR(Recall)')\n",
    "plt.legend();\n"
   ]
  },
  {
   "cell_type": "code",
   "execution_count": 69,
   "metadata": {},
   "outputs": [
    {
     "name": "stdout",
     "output_type": "stream",
     "text": [
      "Logistic Regression의 auc score : 0.976\n"
     ]
    }
   ],
   "source": [
    "from sklearn.metrics import roc_auc_score\n",
    "\n",
    "auc = roc_auc_score(y_val, y_pred_proba)\n",
    "print(f\"Logistic Regression의 auc score : {auc.round(3)}\")"
   ]
  }
 ],
 "metadata": {
  "kernelspec": {
   "display_name": "bigcon",
   "language": "python",
   "name": "python3"
  },
  "language_info": {
   "codemirror_mode": {
    "name": "ipython",
    "version": 3
   },
   "file_extension": ".py",
   "mimetype": "text/x-python",
   "name": "python",
   "nbconvert_exporter": "python",
   "pygments_lexer": "ipython3",
   "version": "3.8.16"
  },
  "orig_nbformat": 4
 },
 "nbformat": 4,
 "nbformat_minor": 2
}
